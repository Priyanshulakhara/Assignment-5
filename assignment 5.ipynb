{
 "cells": [
  {
   "cell_type": "code",
   "execution_count": 5,
   "id": "83cfaae7",
   "metadata": {},
   "outputs": [
    {
     "name": "stdout",
     "output_type": "stream",
     "text": [
      "Enter the value of x : 10\n",
      "Enter the value of n : 2\n",
      "100\n"
     ]
    }
   ],
   "source": [
    "class Solution():\n",
    "    \n",
    "    def __init__(self, x, n):\n",
    "        self.x = x\n",
    "        self.n = n\n",
    "        \n",
    "    def power(self):\n",
    "        return self.x**self.n\n",
    "\n",
    "x = int(input(\"Enter the value of x : \"))\n",
    "n = int(input(\"Enter the value of n : \"))\n",
    "obj = Solution(x, n)\n",
    "print(obj.power())"
   ]
  },
  {
   "cell_type": "code",
   "execution_count": null,
   "id": "bfb733f0",
   "metadata": {},
   "outputs": [],
   "source": []
  },
  {
   "cell_type": "code",
   "execution_count": null,
   "id": "2c0d5c6d",
   "metadata": {},
   "outputs": [],
   "source": []
  }
 ],
 "metadata": {
  "kernelspec": {
   "display_name": "Python 3 (ipykernel)",
   "language": "python",
   "name": "python3"
  },
  "language_info": {
   "codemirror_mode": {
    "name": "ipython",
    "version": 3
   },
   "file_extension": ".py",
   "mimetype": "text/x-python",
   "name": "python",
   "nbconvert_exporter": "python",
   "pygments_lexer": "ipython3",
   "version": "3.10.1"
  }
 },
 "nbformat": 4,
 "nbformat_minor": 5
}
